{
 "cells": [
  {
   "cell_type": "markdown",
   "metadata": {},
   "source": [
    "# MNB Feature Weighting"
   ]
  },
  {
   "cell_type": "code",
   "execution_count": 1,
   "metadata": {},
   "outputs": [],
   "source": [
    "# the feature file is an edited copy of Weka's MultinomialNB output\n",
    "import pandas as pd\n",
    "weka_output = pd.read_csv('deception_data_sentiment.tsv', delimiter='\\t')\n",
    "features = weka_output['token'].values\n",
    "neg_cond_prob = weka_output['negative'].values\n",
    "pos_cond_prob = weka_output['positive'].values"
   ]
  },
  {
   "cell_type": "code",
   "execution_count": 2,
   "metadata": {
    "scrolled": false
   },
   "outputs": [
    {
     "name": "stdout",
     "output_type": "stream",
     "text": [
      "abc\n",
      "0.0008825311\n",
      "0.00042794889999999997\n"
     ]
    }
   ],
   "source": [
    "print(features[0])\n",
    "print(neg_cond_prob[0])\n",
    "print(pos_cond_prob[0])"
   ]
  },
  {
   "cell_type": "code",
   "execution_count": 3,
   "metadata": {},
   "outputs": [
    {
     "name": "stdout",
     "output_type": "stream",
     "text": [
      "-0.723790233049133\n"
     ]
    }
   ],
   "source": [
    "import math\n",
    "log_ratios = []\n",
    "for i in range(0, len(features)):\n",
    "    log_ratio = math.log(pos_cond_prob[i]) - math.log(neg_cond_prob[i])\n",
    "    log_ratios.append(log_ratio)\n",
    "print(log_ratios[0])"
   ]
  },
  {
   "cell_type": "code",
   "execution_count": 4,
   "metadata": {},
   "outputs": [
    {
     "name": "stdout",
     "output_type": "stream",
     "text": [
      "[(1.5011641737011727, 'town'), (1.5151191958404144, 'cafe'), (1.5458363017471655, 'buddy'), (1.5458363017471655, 'regret'), (1.5507391487305613, 'birthday'), (1.5907461926598847, 'feel'), (1.6355758423152933, 'chocolate'), (1.6670137242381484, 'soft'), (1.7317634310012124, 'friendly'), (1.7648940783568543, 'coffee'), (1.7926847806456205, 'restaurants'), (1.7994623502721367, 'awesome'), (1.8033741462206523, 'cream'), (1.8222577082299747, 'makes'), (1.8537059804697602, 'sushi'), (1.8549237514634758, 'atmosphere'), (1.8859838066081576, 'love'), (1.886127387741693, 'noodle'), (1.9142901026610675, 'great'), (2.692254439586475, 'amazing')]\n"
     ]
    }
   ],
   "source": [
    "feature_ranks = sorted(zip(log_ratios, features))\n",
    "\n",
    "# print the words with highest pos/neg conditional prob ratio / most positive words\n",
    "top_pos_features = feature_ranks[-20:]\n",
    "print(top_pos_features)"
   ]
  },
  {
   "cell_type": "code",
   "execution_count": 5,
   "metadata": {},
   "outputs": [
    {
     "name": "stdout",
     "output_type": "stream",
     "text": [
      "[(-2.558405087204214, 'terrible'), (-2.0999756968423373, 'asked'), (-2.0068024670738085, 'worst'), (-1.950596241654904, 'hour'), (-1.8238956051161974, 'bad'), (-1.7730666925133791, 'seated'), (-1.7509050809912514, 'minutes'), (-1.6936760866342038, 'waited'), (-1.5929644271158674, 'bland'), (-1.5401942118585472, 'wrong'), (-1.504827386764024, 'calling'), (-1.4912086082913083, 'free'), (-1.4903317002010557, 'casino'), (-1.475698496037162, 'smell'), (-1.4418468581697201, 'found'), (-1.413135826191069, 'drinks'), (-1.4082072959844805, 'wasn'), (-1.3961124290725264, 'finally'), (-1.377909064974526, 'thing'), (-1.3589554536312418, 'worse')]\n"
     ]
    }
   ],
   "source": [
    "# print the words with lowest pos/neg conditional prob ratio / most negative words\n",
    "top_neg_features = feature_ranks[:20]\n",
    "print(top_neg_features)"
   ]
  },
  {
   "cell_type": "code",
   "execution_count": null,
   "metadata": {
    "scrolled": true
   },
   "outputs": [],
   "source": [
    "# if the model is to classify more than two categories, \n",
    "# you can calculate the log ratio between the conditional probabilies of any two categories \n",
    "\n",
    "# if you simply print out the words with highest conditional probs in each category\n",
    "# you may or may not get informative features \n",
    "# because some popular words in this category may also be popular in other categories.\n",
    "\n",
    "# The following code prints out the words with \n",
    "# highest positive conditional probs and highest negative conditinal probs\n",
    "# and both lists include common words like \"are\", \"this\", etc.\n",
    "\n",
    "pos_features = sorted(zip(pos_cond_prob, features))\n",
    "print(pos_features[-50:])\n",
    "print()\n",
    "neg_features = sorted(zip(neg_cond_prob, features))\n",
    "print(neg_features[-50:])"
   ]
  },
  {
   "cell_type": "code",
   "execution_count": null,
   "metadata": {},
   "outputs": [],
   "source": []
  }
 ],
 "metadata": {
  "kernelspec": {
   "display_name": "Python 3",
   "language": "python",
   "name": "python3"
  },
  "language_info": {
   "codemirror_mode": {
    "name": "ipython",
    "version": 3
   },
   "file_extension": ".py",
   "mimetype": "text/x-python",
   "name": "python",
   "nbconvert_exporter": "python",
   "pygments_lexer": "ipython3",
   "version": "3.6.4"
  }
 },
 "nbformat": 4,
 "nbformat_minor": 2
}
